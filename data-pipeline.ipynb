{
 "cells": [
  {
   "cell_type": "markdown",
   "metadata": {},
   "source": [
    "## Cria o arquivo raw de textos da Wikipedia"
   ]
  },
  {
   "cell_type": "code",
   "execution_count": null,
   "metadata": {},
   "outputs": [],
   "source": [
    "%pip install datasets\n",
    "%pip install tokenizers"
   ]
  },
  {
   "cell_type": "code",
   "execution_count": 4,
   "metadata": {},
   "outputs": [
    {
     "name": "stdout",
     "output_type": "stream",
     "text": [
      "2.2.0\n"
     ]
    }
   ],
   "source": [
    "!python -c \"import torch; print(torch.__version__)\""
   ]
  },
  {
   "cell_type": "markdown",
   "metadata": {},
   "source": [
    "## Executa o modelo em produção"
   ]
  },
  {
   "cell_type": "code",
   "execution_count": 8,
   "metadata": {},
   "outputs": [
    {
     "data": {
      "text/plain": [
       "\"Cinema de Animação Goiânia . com Naturais de Porto Alegre Professores da Universidade de Oxford Joao Gales Joao Gales O último single de Morning Musume de 2005 – L ' s Fun de jas than Live . Autoridades locais , com o incentivo\""
      ]
     },
     "execution_count": 8,
     "metadata": {},
     "output_type": "execute_result"
    }
   ],
   "source": [
    "import torch\n",
    "from tokenizers import Tokenizer\n",
    "from production.production import production\n",
    "from model.device import get_device\n",
    "\n",
    "# Carregar o tokenizador treinado\n",
    "tokenizer = Tokenizer.from_file(\"dataset/portuguese/tokenizer.json\")\n",
    "\n",
    "context_size = 64\n",
    "\n",
    "# Texto de entrada\n",
    "text = \"\"\"\n",
    "Cinema de Animação \n",
    "\"\"\"\n",
    "\n",
    "# Convertendo o texto em IDs de palavras\n",
    "word_ids = tokenizer.encode(text).ids\n",
    "\n",
    "# Convertendo para tensor e ajustando a dimensão\n",
    "word_ids_tensor = torch.tensor([word_ids], dtype=torch.long)\n",
    "for i in range(40):\n",
    "    # Atualizando o tamanho\n",
    "    size = word_ids_tensor.size(1)  # Obter o tamanho da segunda dimensão\n",
    "\n",
    "    # Limitando o tamanho do contexto\n",
    "    if size > context_size:\n",
    "        word_ids_tensor = word_ids_tensor[:, -context_size:]\n",
    "\n",
    "    # Chamando a função de produção\n",
    "    word_id = production(word_ids_tensor)\n",
    "\n",
    "    # Concatenando o novo word_id\n",
    "    word_ids_tensor = torch.cat(\n",
    "        (word_ids_tensor, torch.tensor([[word_id]], dtype=torch.long)), dim=1)\n",
    "\n",
    "# Decodificando os IDs de palavras para texto\n",
    "generated_text = tokenizer.decode(word_ids_tensor[0].tolist())\n",
    "generated_text"
   ]
  },
  {
   "cell_type": "code",
   "execution_count": 6,
   "metadata": {},
   "outputs": [
    {
     "data": {
      "text/plain": [
       "torch.Size([10, 10, 1, 40])"
      ]
     },
     "execution_count": 6,
     "metadata": {},
     "output_type": "execute_result"
    }
   ],
   "source": [
    "import torch\n",
    "import torch.nn as nn\n",
    "import torch.nn.functional as F\n",
    "\n",
    "x = torch.rand(10,10,20,40)\n",
    "\n",
    "conv = nn.Conv2d(in_channels=10, out_channels=10, kernel_size=(20,1))\n",
    "conv(x).shape"
   ]
  }
 ],
 "metadata": {
  "kernelspec": {
   "display_name": "Python 3",
   "language": "python",
   "name": "python3"
  },
  "language_info": {
   "codemirror_mode": {
    "name": "ipython",
    "version": 3
   },
   "file_extension": ".py",
   "mimetype": "text/x-python",
   "name": "python",
   "nbconvert_exporter": "python",
   "pygments_lexer": "ipython3",
   "version": "3.10.8"
  }
 },
 "nbformat": 4,
 "nbformat_minor": 2
}
